{
  "nbformat": 4,
  "nbformat_minor": 0,
  "metadata": {
    "colab": {
      "provenance": [],
      "authorship_tag": "ABX9TyPU9zEkdNIJ/YGBTll//r1Y",
      "include_colab_link": true
    },
    "kernelspec": {
      "name": "python3",
      "display_name": "Python 3"
    },
    "language_info": {
      "name": "python"
    },
    "accelerator": "GPU",
    "gpuClass": "standard"
  },
  "cells": [
    {
      "cell_type": "markdown",
      "metadata": {
        "id": "view-in-github",
        "colab_type": "text"
      },
      "source": [
        "<a href=\"https://colab.research.google.com/github/monjjjjj/MNIST/blob/main/MNIST1.ipynb\" target=\"_parent\"><img src=\"https://colab.research.google.com/assets/colab-badge.svg\" alt=\"Open In Colab\"/></a>"
      ]
    },
    {
      "cell_type": "markdown",
      "source": [
        "# 增加Dropout練習"
      ],
      "metadata": {
        "id": "qn-uZ3tQ53mz"
      }
    },
    {
      "cell_type": "code",
      "execution_count": 2,
      "metadata": {
        "id": "XPf_J_6n5iKN"
      },
      "outputs": [],
      "source": [
        "import numpy as np\n",
        "import tensorflow as tf\n",
        "import matplotlib.pyplot as plt\n",
        "\n",
        "from tensorflow import keras\n",
        "from keras.models import Sequential\n",
        "from keras.layers  import Dense, Dropout, Activation, Flatten\n",
        "from keras.layers import Conv2D, MaxPooling2D\n",
        "from keras.layers import BatchNormalization\n",
        "from sklearn.model_selection import train_test_split\n",
        "from keras import optimizers, regularizers\n",
        "from keras.utils import np_utils\n",
        "from keras.datasets import mnist\n",
        "\n"
      ]
    },
    {
      "cell_type": "code",
      "source": [
        "#Read data \n",
        "#Training data = 60000, Testing data = 10000\n",
        "mnist = tf.keras.datasets.mnist\n",
        "(x_train, y_train), (x_test, y_test) = mnist.load_data()"
      ],
      "metadata": {
        "colab": {
          "base_uri": "https://localhost:8080/"
        },
        "id": "xH85VW1H8yLj",
        "outputId": "15218c91-e567-4ca1-ee28-f4a616faf45c"
      },
      "execution_count": 3,
      "outputs": [
        {
          "output_type": "stream",
          "name": "stdout",
          "text": [
            "Downloading data from https://storage.googleapis.com/tensorflow/tf-keras-datasets/mnist.npz\n",
            "11493376/11490434 [==============================] - 0s 0us/step\n",
            "11501568/11490434 [==============================] - 0s 0us/step\n"
          ]
        }
      ]
    },
    {
      "cell_type": "code",
      "source": [
        "#Normalization\n",
        "x_train = x_train.reshape(60000,1,28,28)\n",
        "x_train = x_train.astype('float32')  \n",
        "x_train /= 255.0\n",
        "x_test = x_test.reshape(10000,1,28,28)\n",
        "x_test = x_test.astype('float32')\n",
        "x_test /= 255.0\n",
        "\n",
        "\n",
        "#One-hot encoding\n",
        "y_train = np_utils.to_categorical(y_train)\n",
        "y_test = np_utils.to_categorical(y_test)\n",
        "\n",
        "print(x_train.shape)\n"
      ],
      "metadata": {
        "colab": {
          "base_uri": "https://localhost:8080/"
        },
        "id": "U9jl_tDX90aT",
        "outputId": "7713df91-f38a-4429-e642-cdf07424d098"
      },
      "execution_count": 4,
      "outputs": [
        {
          "output_type": "stream",
          "name": "stdout",
          "text": [
            "(60000, 1, 28, 28)\n"
          ]
        }
      ]
    },
    {
      "cell_type": "code",
      "source": [
        "#Build Model\n",
        "def build_model():\n",
        "  model = Sequential()\n",
        "  model.add(Conv2D(32,5,input_shape=(1,28,28),activation='sigmoid',padding='same'))\n",
        "  model.add(MaxPooling2D(2,data_format='channels_first'))\n",
        "  model.add(BatchNormalization())\n",
        "\n",
        "  model.add(Conv2D(64,5,activation='sigmoid',padding='same'))\n",
        "  model.add(MaxPooling2D(2,data_format='channels_first'))\n",
        "  \n",
        "  model.add(Flatten())\n",
        "  model.add(Dropout(0.2))\n",
        "  model.add(Dense(512,activation='relu'))\n",
        "  model.add(Dense(10,activation='softmax'))\n",
        "  \n",
        "  model.compile(loss='categorical_crossentropy', optimizer='adam', metrics = ['accuracy'])\n",
        "  \n",
        "  print(model.summary())\n",
        "  keras.utils.plot_model(model, show_shapes=True, dpi=64, to_file='model2.png')\n",
        "\n",
        "  return model"
      ],
      "metadata": {
        "id": "YOB13pe__w21"
      },
      "execution_count": 19,
      "outputs": []
    },
    {
      "cell_type": "code",
      "source": [
        "#training\n",
        "model = build_model()\n",
        "\n",
        "train_history = model.fit(x=x_train,y=y_train,validation_split=0.2,batch_size=200,epochs=20,verbose=2)"
      ],
      "metadata": {
        "colab": {
          "base_uri": "https://localhost:8080/"
        },
        "id": "y8YrkXO-B6fW",
        "outputId": "fbf42f88-56e7-4202-8f48-20b389eeeac0"
      },
      "execution_count": 20,
      "outputs": [
        {
          "output_type": "stream",
          "name": "stdout",
          "text": [
            "Model: \"sequential_2\"\n",
            "_________________________________________________________________\n",
            " Layer (type)                Output Shape              Param #   \n",
            "=================================================================\n",
            " conv2d_4 (Conv2D)           (None, 1, 28, 32)         22432     \n",
            "                                                                 \n",
            " max_pooling2d_4 (MaxPooling  (None, 1, 14, 16)        0         \n",
            " 2D)                                                             \n",
            "                                                                 \n",
            " batch_normalization_2 (Batc  (None, 1, 14, 16)        64        \n",
            " hNormalization)                                                 \n",
            "                                                                 \n",
            " conv2d_5 (Conv2D)           (None, 1, 14, 64)         25664     \n",
            "                                                                 \n",
            " max_pooling2d_5 (MaxPooling  (None, 1, 7, 32)         0         \n",
            " 2D)                                                             \n",
            "                                                                 \n",
            " flatten_2 (Flatten)         (None, 224)               0         \n",
            "                                                                 \n",
            " dropout_2 (Dropout)         (None, 224)               0         \n",
            "                                                                 \n",
            " dense_4 (Dense)             (None, 512)               115200    \n",
            "                                                                 \n",
            " dense_5 (Dense)             (None, 10)                5130      \n",
            "                                                                 \n",
            "=================================================================\n",
            "Total params: 168,490\n",
            "Trainable params: 168,458\n",
            "Non-trainable params: 32\n",
            "_________________________________________________________________\n",
            "None\n",
            "Epoch 1/20\n",
            "240/240 - 2s - loss: 0.7593 - accuracy: 0.7518 - val_loss: 1.3999 - val_accuracy: 0.4750 - 2s/epoch - 7ms/step\n",
            "Epoch 2/20\n",
            "240/240 - 1s - loss: 0.1813 - accuracy: 0.9437 - val_loss: 0.1317 - val_accuracy: 0.9625 - 888ms/epoch - 4ms/step\n",
            "Epoch 3/20\n",
            "240/240 - 1s - loss: 0.1311 - accuracy: 0.9589 - val_loss: 0.0935 - val_accuracy: 0.9706 - 873ms/epoch - 4ms/step\n",
            "Epoch 4/20\n",
            "240/240 - 1s - loss: 0.1069 - accuracy: 0.9668 - val_loss: 0.0785 - val_accuracy: 0.9768 - 878ms/epoch - 4ms/step\n",
            "Epoch 5/20\n",
            "240/240 - 1s - loss: 0.0889 - accuracy: 0.9726 - val_loss: 0.0700 - val_accuracy: 0.9783 - 879ms/epoch - 4ms/step\n",
            "Epoch 6/20\n",
            "240/240 - 1s - loss: 0.0765 - accuracy: 0.9767 - val_loss: 0.0674 - val_accuracy: 0.9791 - 875ms/epoch - 4ms/step\n",
            "Epoch 7/20\n",
            "240/240 - 1s - loss: 0.0689 - accuracy: 0.9783 - val_loss: 0.0623 - val_accuracy: 0.9814 - 861ms/epoch - 4ms/step\n",
            "Epoch 8/20\n",
            "240/240 - 1s - loss: 0.0616 - accuracy: 0.9810 - val_loss: 0.0543 - val_accuracy: 0.9836 - 875ms/epoch - 4ms/step\n",
            "Epoch 9/20\n",
            "240/240 - 1s - loss: 0.0575 - accuracy: 0.9819 - val_loss: 0.0646 - val_accuracy: 0.9801 - 876ms/epoch - 4ms/step\n",
            "Epoch 10/20\n",
            "240/240 - 1s - loss: 0.0498 - accuracy: 0.9842 - val_loss: 0.0510 - val_accuracy: 0.9855 - 878ms/epoch - 4ms/step\n",
            "Epoch 11/20\n",
            "240/240 - 1s - loss: 0.0464 - accuracy: 0.9851 - val_loss: 0.0484 - val_accuracy: 0.9848 - 904ms/epoch - 4ms/step\n",
            "Epoch 12/20\n",
            "240/240 - 1s - loss: 0.0440 - accuracy: 0.9865 - val_loss: 0.0496 - val_accuracy: 0.9847 - 877ms/epoch - 4ms/step\n",
            "Epoch 13/20\n",
            "240/240 - 1s - loss: 0.0406 - accuracy: 0.9870 - val_loss: 0.0520 - val_accuracy: 0.9845 - 878ms/epoch - 4ms/step\n",
            "Epoch 14/20\n",
            "240/240 - 1s - loss: 0.0372 - accuracy: 0.9885 - val_loss: 0.0454 - val_accuracy: 0.9867 - 860ms/epoch - 4ms/step\n",
            "Epoch 15/20\n",
            "240/240 - 1s - loss: 0.0348 - accuracy: 0.9889 - val_loss: 0.0489 - val_accuracy: 0.9865 - 855ms/epoch - 4ms/step\n",
            "Epoch 16/20\n",
            "240/240 - 1s - loss: 0.0326 - accuracy: 0.9893 - val_loss: 0.0484 - val_accuracy: 0.9861 - 881ms/epoch - 4ms/step\n",
            "Epoch 17/20\n",
            "240/240 - 1s - loss: 0.0311 - accuracy: 0.9898 - val_loss: 0.0468 - val_accuracy: 0.9864 - 881ms/epoch - 4ms/step\n",
            "Epoch 18/20\n",
            "240/240 - 1s - loss: 0.0286 - accuracy: 0.9908 - val_loss: 0.0574 - val_accuracy: 0.9845 - 874ms/epoch - 4ms/step\n",
            "Epoch 19/20\n",
            "240/240 - 1s - loss: 0.0262 - accuracy: 0.9915 - val_loss: 0.0414 - val_accuracy: 0.9878 - 886ms/epoch - 4ms/step\n",
            "Epoch 20/20\n",
            "240/240 - 1s - loss: 0.0254 - accuracy: 0.9911 - val_loss: 0.0448 - val_accuracy: 0.9868 - 902ms/epoch - 4ms/step\n"
          ]
        }
      ]
    },
    {
      "cell_type": "code",
      "source": [
        "print(train_history.history.keys())"
      ],
      "metadata": {
        "colab": {
          "base_uri": "https://localhost:8080/"
        },
        "id": "g-rlB3FyDzvO",
        "outputId": "aa6e254b-37b4-4c28-926c-25ee48d75da0"
      },
      "execution_count": 21,
      "outputs": [
        {
          "output_type": "stream",
          "name": "stdout",
          "text": [
            "dict_keys(['loss', 'accuracy', 'val_loss', 'val_accuracy'])\n"
          ]
        }
      ]
    },
    {
      "cell_type": "code",
      "source": [
        "def show_train_history(train_history,train,validation):\n",
        "  \n",
        "  if train == 'accuracy':\n",
        "    plt.plot(train_history.history[train])\n",
        "    plt.plot(train_history.history[validation])\n",
        "    plt.title('Train history(acc)')\n",
        "    plt.ylabel('train')\n",
        "    plt.xlabel('epoch')\n",
        "  else:\n",
        "    plt.plot(train_history.history[train])\n",
        "    plt.plot(train_history.history[validation])\n",
        "    plt.title('Train history(loss)')\n",
        "    plt.ylabel('train')\n",
        "    plt.xlabel('epoch')\n",
        "\n",
        "  plt.legend(['train','validation'],loc='upper left')\n",
        "  plt.show()"
      ],
      "metadata": {
        "id": "RtFtoL8mClr9"
      },
      "execution_count": 22,
      "outputs": []
    },
    {
      "cell_type": "code",
      "source": [
        "show_train_history(train_history,'accuracy','val_accuracy')\n",
        "show_train_history(train_history,'loss','val_loss')"
      ],
      "metadata": {
        "colab": {
          "base_uri": "https://localhost:8080/",
          "height": 573
        },
        "id": "X8BckVm6CV1r",
        "outputId": "650f8cfa-30ca-47a7-b88c-05d8c44696df"
      },
      "execution_count": 23,
      "outputs": [
        {
          "output_type": "display_data",
          "data": {
            "text/plain": [
              "<Figure size 432x288 with 1 Axes>"
            ],
            "image/png": "[encoded data removed]"
          },
          "metadata": {
            "needs_background": "light"
          }
        },
        {
          "output_type": "display_data",
          "data": {
            "text/plain": [
              "<Figure size 432x288 with 1 Axes>"
            ],
            "image/png": "[encoded data removed]"
          },
          "metadata": {
            "needs_background": "light"
          }
        }
      ]
    },
    {
      "cell_type": "code",
      "source": [
        "# summarize history for accuracy\n",
        "plt.plot(train_history.history['accuracy'])\n",
        "plt.plot(train_history.history['val_accuracy'])\n",
        "plt.title('model accuracy')\n",
        "plt.ylabel('accuracy')\n",
        "plt.xlabel('epoch')\n",
        "plt.legend(['train', 'validation'], loc='upper left') \n",
        "plt.show()"
      ],
      "metadata": {
        "colab": {
          "base_uri": "https://localhost:8080/",
          "height": 295
        },
        "id": "j55Iul4mGF9T",
        "outputId": "b5b11213-3b1e-4cc4-a534-2852da420f62"
      },
      "execution_count": 24,
      "outputs": [
        {
          "output_type": "display_data",
          "data": {
            "text/plain": [
              "<Figure size 432x288 with 1 Axes>"
            ],
            "image/png": "[encoded data removed]"
          },
          "metadata": {
            "needs_background": "light"
          }
        }
      ]
    },
    {
      "cell_type": "code",
      "source": [
        "#testing\n",
        "scores=model.evaluate(x_test,y_test)\n",
        "print()\n",
        "print('accuracy:',scores[1])"
      ],
      "metadata": {
        "colab": {
          "base_uri": "https://localhost:8080/"
        },
        "id": "aBlmIZS-yUhW",
        "outputId": "89410e21-dfbc-4d8c-cfc4-3ea5982c0e94"
      },
      "execution_count": 25,
      "outputs": [
        {
          "output_type": "stream",
          "name": "stdout",
          "text": [
            "313/313 [==============================] - 1s 3ms/step - loss: 0.0401 - accuracy: 0.9873\n",
            "\n",
            "accuracy: 0.9872999787330627\n"
          ]
        }
      ]
    }
  ]
}