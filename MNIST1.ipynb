{
  "nbformat": 4,
  "nbformat_minor": 0,
  "metadata": {
    "colab": {
      "provenance": [],
      "authorship_tag": "ABX9TyMjuleP4/Jx4JAOCN1n5o/l",
      "include_colab_link": true
    },
    "kernelspec": {
      "name": "python3",
      "display_name": "Python 3"
    },
    "language_info": {
      "name": "python"
    },
    "accelerator": "GPU",
    "gpuClass": "standard"
  },
  "cells": [
    {
      "cell_type": "markdown",
      "metadata": {
        "id": "view-in-github",
        "colab_type": "text"
      },
      "source": [
        "<a href=\"https://colab.research.google.com/github/monjjjjj/MNIST/blob/main/MNIST1.ipynb\" target=\"_parent\"><img src=\"https://colab.research.google.com/assets/colab-badge.svg\" alt=\"Open In Colab\"/></a>"
      ]
    },
    {
      "cell_type": "markdown",
      "source": [
        "# 增加Dropout練習"
      ],
      "metadata": {
        "id": "qn-uZ3tQ53mz"
      }
    },
    {
      "cell_type": "code",
      "execution_count": 3,
      "metadata": {
        "id": "XPf_J_6n5iKN"
      },
      "outputs": [],
      "source": [
        "import numpy as np\n",
        "import tensorflow as tf\n",
        "import matplotlib.pyplot as plt\n",
        "\n",
        "from tensorflow import keras\n",
        "from keras.models import Sequential\n",
        "from keras.layers  import Dense, Dropout, Activation, Flatten\n",
        "from keras.layers import Conv2D, MaxPooling2D\n",
        "from keras.layers import BatchNormalization\n",
        "from sklearn.model_selection import train_test_split\n",
        "from keras import optimizers, regularizers\n",
        "from keras.utils import np_utils\n",
        "from keras.datasets import mnist\n",
        "\n"
      ]
    },
    {
      "cell_type": "code",
      "source": [
        "#Read data \n",
        "#Training data = 60000, Testing data = 10000\n",
        "mnist = tf.keras.datasets.mnist\n",
        "(x_train, y_train), (x_test, y_test) = mnist.load_data()"
      ],
      "metadata": {
        "colab": {
          "base_uri": "https://localhost:8080/"
        },
        "id": "xH85VW1H8yLj",
        "outputId": "57175256-a141-43d1-d4d3-6145fcb24b44"
      },
      "execution_count": 4,
      "outputs": [
        {
          "output_type": "stream",
          "name": "stdout",
          "text": [
            "Downloading data from https://storage.googleapis.com/tensorflow/tf-keras-datasets/mnist.npz\n",
            "11493376/11490434 [==============================] - 0s 0us/step\n",
            "11501568/11490434 [==============================] - 0s 0us/step\n"
          ]
        }
      ]
    },
    {
      "cell_type": "code",
      "source": [
        "#Normalization\n",
        "x_train = x_train.reshape(60000,1,28,28)\n",
        "x_train = x_train.astype('float32')  \n",
        "x_train /= 255.0\n",
        "x_test = x_test.reshape(10000,1,28,28)\n",
        "x_test = x_test.astype('float32')\n",
        "x_test /= 255.0\n",
        "\n",
        "\n",
        "#One-hot encoding\n",
        "y_train = np_utils.to_categorical(y_train)\n",
        "y_test = np_utils.to_categorical(y_test)\n",
        "\n",
        "print(x_train.shape)\n"
      ],
      "metadata": {
        "colab": {
          "base_uri": "https://localhost:8080/"
        },
        "id": "U9jl_tDX90aT",
        "outputId": "77be9fa2-543e-48b7-d716-c766427e9aca"
      },
      "execution_count": 5,
      "outputs": [
        {
          "output_type": "stream",
          "name": "stdout",
          "text": [
            "(60000, 1, 28, 28)\n"
          ]
        }
      ]
    },
    {
      "cell_type": "code",
      "source": [
        "#Build Model\n",
        "def build_model():\n",
        "  model = Sequential()\n",
        "  model.add(Conv2D(32,5,input_shape=(1,28,28),activation='sigmoid',padding='same'))\n",
        "  model.add(MaxPooling2D(2,data_format='channels_first'))\n",
        "  model.add(BatchNormalization())\n",
        "\n",
        "  model.add(Conv2D(64,5,activation='sigmoid',padding='same'))\n",
        "  model.add(MaxPooling2D(2,data_format='channels_first'))\n",
        "  \n",
        "  model.add(Flatten())\n",
        "  model.add(Dropout(0.2))\n",
        "  model.add(Dense(512,activation='relu'))\n",
        "  model.add(Dense(10,activation='softmax'))\n",
        "  \n",
        "  model.compile(loss='categorical_crossentropy', optimizer='adam', metrics = ['accuracy'])\n",
        "  \n",
        "  print(model.summary())\n",
        "  keras.utils.plot_model(model, show_shapes=True, dpi=64, to_file='model2.png')\n",
        "\n",
        "  return model"
      ],
      "metadata": {
        "id": "YOB13pe__w21"
      },
      "execution_count": 6,
      "outputs": []
    },
    {
      "cell_type": "code",
      "source": [
        "#training\n",
        "model = build_model()\n",
        "\n",
        "train_history = model.fit(x=x_train,y=y_train,validation_split=0.2,batch_size=200,epochs=20,verbose=2)"
      ],
      "metadata": {
        "colab": {
          "base_uri": "https://localhost:8080/"
        },
        "id": "y8YrkXO-B6fW",
        "outputId": "a4bcbc9f-2f81-4f94-bcda-58c766cf336d"
      },
      "execution_count": 7,
      "outputs": [
        {
          "output_type": "stream",
          "name": "stdout",
          "text": [
            "Model: \"sequential\"\n",
            "_________________________________________________________________\n",
            " Layer (type)                Output Shape              Param #   \n",
            "=================================================================\n",
            " conv2d (Conv2D)             (None, 1, 28, 32)         22432     \n",
            "                                                                 \n",
            " max_pooling2d (MaxPooling2D  (None, 1, 14, 16)        0         \n",
            " )                                                               \n",
            "                                                                 \n",
            " batch_normalization (BatchN  (None, 1, 14, 16)        64        \n",
            " ormalization)                                                   \n",
            "                                                                 \n",
            " conv2d_1 (Conv2D)           (None, 1, 14, 64)         25664     \n",
            "                                                                 \n",
            " max_pooling2d_1 (MaxPooling  (None, 1, 7, 32)         0         \n",
            " 2D)                                                             \n",
            "                                                                 \n",
            " flatten (Flatten)           (None, 224)               0         \n",
            "                                                                 \n",
            " dropout (Dropout)           (None, 224)               0         \n",
            "                                                                 \n",
            " dense (Dense)               (None, 512)               115200    \n",
            "                                                                 \n",
            " dense_1 (Dense)             (None, 10)                5130      \n",
            "                                                                 \n",
            "=================================================================\n",
            "Total params: 168,490\n",
            "Trainable params: 168,458\n",
            "Non-trainable params: 32\n",
            "_________________________________________________________________\n",
            "None\n",
            "Epoch 1/20\n",
            "240/240 - 12s - loss: 0.8008 - accuracy: 0.7392 - val_loss: 1.2789 - val_accuracy: 0.5349 - 12s/epoch - 52ms/step\n",
            "Epoch 2/20\n",
            "240/240 - 1s - loss: 0.1882 - accuracy: 0.9421 - val_loss: 0.1272 - val_accuracy: 0.9647 - 867ms/epoch - 4ms/step\n",
            "Epoch 3/20\n",
            "240/240 - 1s - loss: 0.1289 - accuracy: 0.9600 - val_loss: 0.0836 - val_accuracy: 0.9754 - 890ms/epoch - 4ms/step\n",
            "Epoch 4/20\n",
            "240/240 - 1s - loss: 0.1004 - accuracy: 0.9691 - val_loss: 0.0739 - val_accuracy: 0.9785 - 893ms/epoch - 4ms/step\n",
            "Epoch 5/20\n",
            "240/240 - 1s - loss: 0.0852 - accuracy: 0.9730 - val_loss: 0.0649 - val_accuracy: 0.9798 - 888ms/epoch - 4ms/step\n",
            "Epoch 6/20\n",
            "240/240 - 1s - loss: 0.0731 - accuracy: 0.9767 - val_loss: 0.0617 - val_accuracy: 0.9832 - 851ms/epoch - 4ms/step\n",
            "Epoch 7/20\n",
            "240/240 - 1s - loss: 0.0648 - accuracy: 0.9799 - val_loss: 0.0539 - val_accuracy: 0.9854 - 865ms/epoch - 4ms/step\n",
            "Epoch 8/20\n",
            "240/240 - 1s - loss: 0.0605 - accuracy: 0.9807 - val_loss: 0.0520 - val_accuracy: 0.9847 - 863ms/epoch - 4ms/step\n",
            "Epoch 9/20\n",
            "240/240 - 1s - loss: 0.0532 - accuracy: 0.9830 - val_loss: 0.0524 - val_accuracy: 0.9837 - 880ms/epoch - 4ms/step\n",
            "Epoch 10/20\n",
            "240/240 - 1s - loss: 0.0495 - accuracy: 0.9839 - val_loss: 0.0443 - val_accuracy: 0.9869 - 861ms/epoch - 4ms/step\n",
            "Epoch 11/20\n",
            "240/240 - 1s - loss: 0.0440 - accuracy: 0.9862 - val_loss: 0.0491 - val_accuracy: 0.9853 - 862ms/epoch - 4ms/step\n",
            "Epoch 12/20\n",
            "240/240 - 1s - loss: 0.0412 - accuracy: 0.9864 - val_loss: 0.0535 - val_accuracy: 0.9844 - 1s/epoch - 5ms/step\n",
            "Epoch 13/20\n",
            "240/240 - 1s - loss: 0.0389 - accuracy: 0.9881 - val_loss: 0.0501 - val_accuracy: 0.9859 - 1s/epoch - 5ms/step\n",
            "Epoch 14/20\n",
            "240/240 - 1s - loss: 0.0366 - accuracy: 0.9883 - val_loss: 0.0511 - val_accuracy: 0.9844 - 1s/epoch - 5ms/step\n",
            "Epoch 15/20\n",
            "240/240 - 1s - loss: 0.0331 - accuracy: 0.9895 - val_loss: 0.0418 - val_accuracy: 0.9882 - 859ms/epoch - 4ms/step\n",
            "Epoch 16/20\n",
            "240/240 - 1s - loss: 0.0299 - accuracy: 0.9908 - val_loss: 0.0453 - val_accuracy: 0.9870 - 880ms/epoch - 4ms/step\n",
            "Epoch 17/20\n",
            "240/240 - 1s - loss: 0.0282 - accuracy: 0.9908 - val_loss: 0.0482 - val_accuracy: 0.9869 - 852ms/epoch - 4ms/step\n",
            "Epoch 18/20\n",
            "240/240 - 1s - loss: 0.0273 - accuracy: 0.9908 - val_loss: 0.0482 - val_accuracy: 0.9872 - 859ms/epoch - 4ms/step\n",
            "Epoch 19/20\n",
            "240/240 - 1s - loss: 0.0259 - accuracy: 0.9915 - val_loss: 0.0502 - val_accuracy: 0.9855 - 850ms/epoch - 4ms/step\n",
            "Epoch 20/20\n",
            "240/240 - 1s - loss: 0.0244 - accuracy: 0.9924 - val_loss: 0.0471 - val_accuracy: 0.9866 - 850ms/epoch - 4ms/step\n"
          ]
        }
      ]
    },
    {
      "cell_type": "code",
      "source": [
        "print(train_history.history.keys())"
      ],
      "metadata": {
        "colab": {
          "base_uri": "https://localhost:8080/"
        },
        "id": "g-rlB3FyDzvO",
        "outputId": "2eb8b552-397a-4ae4-c96f-9542be4e0e5d"
      },
      "execution_count": 8,
      "outputs": [
        {
          "output_type": "stream",
          "name": "stdout",
          "text": [
            "dict_keys(['loss', 'accuracy', 'val_loss', 'val_accuracy'])\n"
          ]
        }
      ]
    },
    {
      "cell_type": "code",
      "source": [
        "def show_train_history(train_history,train,validation):\n",
        "  \n",
        "  if train == 'accuracy':\n",
        "    plt.plot(train_history.history[train])\n",
        "    plt.plot(train_history.history[validation])\n",
        "    plt.title('Model Accuracy')\n",
        "    plt.ylabel('accuracy')\n",
        "    plt.xlabel('epoch')\n",
        "  else:\n",
        "    plt.plot(train_history.history[train])\n",
        "    plt.plot(train_history.history[validation])\n",
        "    plt.title('Model Loss')\n",
        "    plt.ylabel('loss')\n",
        "    plt.xlabel('epoch')\n",
        "\n",
        "  plt.legend(['train','validation'],loc='upper left')\n",
        "  plt.show()"
      ],
      "metadata": {
        "id": "RtFtoL8mClr9"
      },
      "execution_count": 9,
      "outputs": []
    },
    {
      "cell_type": "code",
      "source": [
        "show_train_history(train_history,'accuracy','val_accuracy')\n",
        "show_train_history(train_history,'loss','val_loss')"
      ],
      "metadata": {
        "colab": {
          "base_uri": "https://localhost:8080/",
          "height": 573
        },
        "id": "X8BckVm6CV1r",
        "outputId": "c91b0d61-eabb-4160-c2fb-6a52a8732a80"
      },
      "execution_count": 10,
      "outputs": [
        {
          "output_type": "display_data",
          "data": {
            "text/plain": [
              "<Figure size 432x288 with 1 Axes>"
            ],
            "image/png": "[encoded data removed]"
          },
          "metadata": {
            "needs_background": "light"
          }
        },
        {
          "output_type": "display_data",
          "data": {
            "text/plain": [
              "<Figure size 432x288 with 1 Axes>"
            ],
            "image/png": "[encoded data removed]"
          },
          "metadata": {
            "needs_background": "light"
          }
        }
      ]
    },
    {
      "cell_type": "code",
      "source": [
        "# summarize history for accuracy\n",
        "plt.plot(train_history.history['accuracy'])\n",
        "plt.plot(train_history.history['val_accuracy'])\n",
        "plt.title('model accuracy')\n",
        "plt.ylabel('accuracy')\n",
        "plt.xlabel('epoch')\n",
        "plt.legend(['train', 'validation'], loc='upper left') \n",
        "plt.show()"
      ],
      "metadata": {
        "colab": {
          "base_uri": "https://localhost:8080/",
          "height": 295
        },
        "id": "j55Iul4mGF9T",
        "outputId": "ce9977b1-1df0-4d5b-cfdc-ef2e7be6eccb"
      },
      "execution_count": 11,
      "outputs": [
        {
          "output_type": "display_data",
          "data": {
            "text/plain": [
              "<Figure size 432x288 with 1 Axes>"
            ],
            "image/png": "[encoded data removed]"
          },
          "metadata": {
            "needs_background": "light"
          }
        }
      ]
    },
    {
      "cell_type": "code",
      "source": [
        "#testing\n",
        "scores=model.evaluate(x_test,y_test)\n",
        "print()\n",
        "print('accuracy:',scores[1])"
      ],
      "metadata": {
        "colab": {
          "base_uri": "https://localhost:8080/"
        },
        "id": "aBlmIZS-yUhW",
        "outputId": "376a7aaa-6234-44ca-8cb8-90770a73abca"
      },
      "execution_count": 12,
      "outputs": [
        {
          "output_type": "stream",
          "name": "stdout",
          "text": [
            "313/313 [==============================] - 1s 3ms/step - loss: 0.0372 - accuracy: 0.9872\n",
            "\n",
            "accuracy: 0.9872000217437744\n"
          ]
        }
      ]
    }
  ]
}