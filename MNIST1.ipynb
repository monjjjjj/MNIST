{
  "nbformat": 4,
  "nbformat_minor": 0,
  "metadata": {
    "colab": {
      "provenance": [],
      "authorship_tag": "ABX9TyM6AVXnTzOkxyg4gbqCJgXf",
      "include_colab_link": true
    },
    "kernelspec": {
      "name": "python3",
      "display_name": "Python 3"
    },
    "language_info": {
      "name": "python"
    },
    "accelerator": "GPU",
    "gpuClass": "standard"
  },
  "cells": [
    {
      "cell_type": "markdown",
      "metadata": {
        "id": "view-in-github",
        "colab_type": "text"
      },
      "source": [
        "<a href=\"https://colab.research.google.com/github/monjjjjj/MNIST/blob/main/MNIST1.ipynb\" target=\"_parent\"><img src=\"https://colab.research.google.com/assets/colab-badge.svg\" alt=\"Open In Colab\"/></a>"
      ]
    },
    {
      "cell_type": "markdown",
      "source": [
        "# 增加Dropout練習"
      ],
      "metadata": {
        "id": "qn-uZ3tQ53mz"
      }
    },
    {
      "cell_type": "code",
      "execution_count": 17,
      "metadata": {
        "id": "XPf_J_6n5iKN"
      },
      "outputs": [],
      "source": [
        "import numpy as np\n",
        "import tensorflow as tf\n",
        "import matplotlib.pyplot as plt\n",
        "\n",
        "from tensorflow import keras\n",
        "from keras.models import Sequential\n",
        "from keras.layers  import Dense, Dropout, Activation, Flatten\n",
        "from keras.layers import Conv2D, MaxPooling2D\n",
        "from keras.layers import BatchNormalization\n",
        "from sklearn.model_selection import train_test_split\n",
        "from keras import optimizers, regularizers\n",
        "from keras.utils import np_utils\n",
        "from keras.datasets import mnist\n",
        "\n"
      ]
    },
    {
      "cell_type": "code",
      "source": [
        "#Read data \n",
        "#Training data = 60000, Testing data = 10000\n",
        "mnist = tf.keras.datasets.mnist\n",
        "(x_train, y_train), (x_test, y_test) = mnist.load_data()"
      ],
      "metadata": {
        "id": "xH85VW1H8yLj"
      },
      "execution_count": 18,
      "outputs": []
    },
    {
      "cell_type": "code",
      "source": [
        "#Normalization\n",
        "x_train = x_train.reshape(60000,1,28,28)\n",
        "x_train = x_train.astype('float32')  \n",
        "x_train /= 255.0\n",
        "x_test = x_test.reshape(10000,1,28,28)\n",
        "x_test = x_test.astype('float32')\n",
        "x_test /= 255.0\n",
        "\n",
        "\n",
        "#One-hot encoding\n",
        "y_train = np_utils.to_categorical(y_train)\n",
        "y_test = np_utils.to_categorical(y_test)\n",
        "\n",
        "print(x_train.shape)\n"
      ],
      "metadata": {
        "colab": {
          "base_uri": "https://localhost:8080/"
        },
        "id": "U9jl_tDX90aT",
        "outputId": "9bd402a3-d2f2-445c-da45-4cf47271f058"
      },
      "execution_count": 19,
      "outputs": [
        {
          "output_type": "stream",
          "name": "stdout",
          "text": [
            "(60000, 1, 28, 28)\n"
          ]
        }
      ]
    },
    {
      "cell_type": "code",
      "source": [
        "#Build Model\n",
        "def build_model():\n",
        "  model = Sequential()\n",
        "  model.add(Conv2D(32,5,input_shape=(1,28,28),activation='sigmoid',padding='same'))\n",
        "  model.add(MaxPooling2D(2,data_format='channels_first'))\n",
        "  model.add(BatchNormalization())\n",
        "\n",
        "  model.add(Conv2D(64,5,activation='relu',padding='same'))\n",
        "  model.add(MaxPooling2D(2,data_format='channels_first'))\n",
        "  \n",
        "  model.add(Flatten())\n",
        "  model.add(Dropout(0.2))\n",
        "  model.add(Dense(256,activation='relu'))\n",
        "  model.add(Dense(10,activation='softmax'))\n",
        "  \n",
        "  model.compile(loss='categorical_crossentropy', optimizer='adam', metrics = ['accuracy'])\n",
        "  \n",
        "  print(model.summary())\n",
        "  keras.utils.plot_model(model, show_shapes=True, dpi=64, to_file='model2.png')\n",
        "\n",
        "  return model"
      ],
      "metadata": {
        "id": "YOB13pe__w21"
      },
      "execution_count": 20,
      "outputs": []
    },
    {
      "cell_type": "code",
      "source": [
        "#training\n",
        "model = build_model()\n",
        "\n",
        "train_history = model.fit(x=x_train,y=y_train,validation_split=0.2,batch_size=200,epochs=20,verbose=2)"
      ],
      "metadata": {
        "colab": {
          "base_uri": "https://localhost:8080/"
        },
        "id": "y8YrkXO-B6fW",
        "outputId": "ccffa655-26ed-433a-ad80-80734e81a6e5"
      },
      "execution_count": 21,
      "outputs": [
        {
          "output_type": "stream",
          "name": "stdout",
          "text": [
            "Model: \"sequential_1\"\n",
            "_________________________________________________________________\n",
            " Layer (type)                Output Shape              Param #   \n",
            "=================================================================\n",
            " conv2d_2 (Conv2D)           (None, 1, 28, 32)         22432     \n",
            "                                                                 \n",
            " max_pooling2d_2 (MaxPooling  (None, 1, 14, 16)        0         \n",
            " 2D)                                                             \n",
            "                                                                 \n",
            " batch_normalization_1 (Batc  (None, 1, 14, 16)        64        \n",
            " hNormalization)                                                 \n",
            "                                                                 \n",
            " conv2d_3 (Conv2D)           (None, 1, 14, 64)         25664     \n",
            "                                                                 \n",
            " max_pooling2d_3 (MaxPooling  (None, 1, 7, 32)         0         \n",
            " 2D)                                                             \n",
            "                                                                 \n",
            " flatten_1 (Flatten)         (None, 224)               0         \n",
            "                                                                 \n",
            " dropout_1 (Dropout)         (None, 224)               0         \n",
            "                                                                 \n",
            " dense_2 (Dense)             (None, 256)               57600     \n",
            "                                                                 \n",
            " dense_3 (Dense)             (None, 10)                2570      \n",
            "                                                                 \n",
            "=================================================================\n",
            "Total params: 108,330\n",
            "Trainable params: 108,298\n",
            "Non-trainable params: 32\n",
            "_________________________________________________________________\n",
            "None\n",
            "Epoch 1/20\n",
            "240/240 - 2s - loss: 0.3758 - accuracy: 0.8881 - val_loss: 1.1913 - val_accuracy: 0.6127 - 2s/epoch - 6ms/step\n",
            "Epoch 2/20\n",
            "240/240 - 1s - loss: 0.1092 - accuracy: 0.9659 - val_loss: 0.1152 - val_accuracy: 0.9771 - 835ms/epoch - 3ms/step\n",
            "Epoch 3/20\n",
            "240/240 - 1s - loss: 0.0799 - accuracy: 0.9751 - val_loss: 0.0620 - val_accuracy: 0.9822 - 823ms/epoch - 3ms/step\n",
            "Epoch 4/20\n",
            "240/240 - 1s - loss: 0.0629 - accuracy: 0.9806 - val_loss: 0.0511 - val_accuracy: 0.9848 - 830ms/epoch - 3ms/step\n",
            "Epoch 5/20\n",
            "240/240 - 1s - loss: 0.0540 - accuracy: 0.9830 - val_loss: 0.0454 - val_accuracy: 0.9877 - 826ms/epoch - 3ms/step\n",
            "Epoch 6/20\n",
            "240/240 - 1s - loss: 0.0482 - accuracy: 0.9840 - val_loss: 0.0504 - val_accuracy: 0.9856 - 851ms/epoch - 4ms/step\n",
            "Epoch 7/20\n",
            "240/240 - 1s - loss: 0.0434 - accuracy: 0.9859 - val_loss: 0.0454 - val_accuracy: 0.9877 - 851ms/epoch - 4ms/step\n",
            "Epoch 8/20\n",
            "240/240 - 1s - loss: 0.0393 - accuracy: 0.9873 - val_loss: 0.0418 - val_accuracy: 0.9875 - 845ms/epoch - 4ms/step\n",
            "Epoch 9/20\n",
            "240/240 - 1s - loss: 0.0342 - accuracy: 0.9885 - val_loss: 0.0463 - val_accuracy: 0.9862 - 884ms/epoch - 4ms/step\n",
            "Epoch 10/20\n",
            "240/240 - 1s - loss: 0.0321 - accuracy: 0.9896 - val_loss: 0.0477 - val_accuracy: 0.9852 - 844ms/epoch - 4ms/step\n",
            "Epoch 11/20\n",
            "240/240 - 1s - loss: 0.0298 - accuracy: 0.9903 - val_loss: 0.0490 - val_accuracy: 0.9864 - 873ms/epoch - 4ms/step\n",
            "Epoch 12/20\n",
            "240/240 - 1s - loss: 0.0268 - accuracy: 0.9907 - val_loss: 0.0464 - val_accuracy: 0.9878 - 832ms/epoch - 3ms/step\n",
            "Epoch 13/20\n",
            "240/240 - 1s - loss: 0.0258 - accuracy: 0.9915 - val_loss: 0.0402 - val_accuracy: 0.9888 - 821ms/epoch - 3ms/step\n",
            "Epoch 14/20\n",
            "240/240 - 1s - loss: 0.0213 - accuracy: 0.9927 - val_loss: 0.0466 - val_accuracy: 0.9870 - 848ms/epoch - 4ms/step\n",
            "Epoch 15/20\n",
            "240/240 - 1s - loss: 0.0224 - accuracy: 0.9924 - val_loss: 0.0418 - val_accuracy: 0.9885 - 860ms/epoch - 4ms/step\n",
            "Epoch 16/20\n",
            "240/240 - 1s - loss: 0.0208 - accuracy: 0.9928 - val_loss: 0.0415 - val_accuracy: 0.9886 - 939ms/epoch - 4ms/step\n",
            "Epoch 17/20\n",
            "240/240 - 1s - loss: 0.0188 - accuracy: 0.9936 - val_loss: 0.0393 - val_accuracy: 0.9890 - 1s/epoch - 5ms/step\n",
            "Epoch 18/20\n",
            "240/240 - 1s - loss: 0.0166 - accuracy: 0.9944 - val_loss: 0.0438 - val_accuracy: 0.9886 - 939ms/epoch - 4ms/step\n",
            "Epoch 19/20\n",
            "240/240 - 1s - loss: 0.0167 - accuracy: 0.9946 - val_loss: 0.0427 - val_accuracy: 0.9898 - 866ms/epoch - 4ms/step\n",
            "Epoch 20/20\n",
            "240/240 - 1s - loss: 0.0190 - accuracy: 0.9932 - val_loss: 0.0458 - val_accuracy: 0.9884 - 845ms/epoch - 4ms/step\n"
          ]
        }
      ]
    },
    {
      "cell_type": "code",
      "source": [
        "print(train_history.history.keys())"
      ],
      "metadata": {
        "colab": {
          "base_uri": "https://localhost:8080/"
        },
        "id": "g-rlB3FyDzvO",
        "outputId": "55bb2c3f-2d3e-456b-854e-9f9f524edafc"
      },
      "execution_count": 22,
      "outputs": [
        {
          "output_type": "stream",
          "name": "stdout",
          "text": [
            "dict_keys(['loss', 'accuracy', 'val_loss', 'val_accuracy'])\n"
          ]
        }
      ]
    },
    {
      "cell_type": "code",
      "source": [
        "def show_train_history(train_history,train,validation):\n",
        "  \n",
        "  if train == 'accuracy':\n",
        "    plt.plot(train_history.history[train])\n",
        "    plt.plot(train_history.history[validation])\n",
        "    plt.title('Train history(acc)')\n",
        "    plt.ylabel('train')\n",
        "    plt.xlabel('epoch')\n",
        "  else:\n",
        "    plt.plot(train_history.history[train])\n",
        "    plt.plot(train_history.history[validation])\n",
        "    plt.title('Train history(loss)')\n",
        "    plt.ylabel('train')\n",
        "    plt.xlabel('epoch')\n",
        "\n",
        "  plt.legend(['train','validation'],loc='upper left')\n",
        "  plt.show()"
      ],
      "metadata": {
        "id": "RtFtoL8mClr9"
      },
      "execution_count": 23,
      "outputs": []
    },
    {
      "cell_type": "code",
      "source": [
        "show_train_history(train_history,'accuracy','val_accuracy')\n",
        "show_train_history(train_history,'loss','val_loss')"
      ],
      "metadata": {
        "colab": {
          "base_uri": "https://localhost:8080/",
          "height": 573
        },
        "id": "X8BckVm6CV1r",
        "outputId": "71856b9c-5bec-41da-9b97-b784bb97b59e"
      },
      "execution_count": 24,
      "outputs": [
        {
          "output_type": "display_data",
          "data": {
            "text/plain": [
              "<Figure size 432x288 with 1 Axes>"
            ],
            "image/png": "[encoded data removed]"
          },
          "metadata": {
            "needs_background": "light"
          }
        },
        {
          "output_type": "display_data",
          "data": {
            "text/plain": [
              "<Figure size 432x288 with 1 Axes>"
            ],
            "image/png": "[encoded data removed]"
          },
          "metadata": {
            "needs_background": "light"
          }
        }
      ]
    },
    {
      "cell_type": "code",
      "source": [
        "# summarize history for accuracy\n",
        "plt.plot(train_history.history['accuracy'])\n",
        "plt.plot(train_history.history['val_accuracy'])\n",
        "plt.title('model accuracy')\n",
        "plt.ylabel('accuracy')\n",
        "plt.xlabel('epoch')\n",
        "plt.legend(['train', 'validation'], loc='upper left') \n",
        "plt.show()"
      ],
      "metadata": {
        "colab": {
          "base_uri": "https://localhost:8080/",
          "height": 295
        },
        "id": "j55Iul4mGF9T",
        "outputId": "104ade5f-8861-4edb-fa7d-bfee36760b1e"
      },
      "execution_count": 27,
      "outputs": [
        {
          "output_type": "display_data",
          "data": {
            "text/plain": [
              "<Figure size 432x288 with 1 Axes>"
            ],
            "image/png": "[encoded data removed]"
          },
          "metadata": {
            "needs_background": "light"
          }
        }
      ]
    }
  ]
}